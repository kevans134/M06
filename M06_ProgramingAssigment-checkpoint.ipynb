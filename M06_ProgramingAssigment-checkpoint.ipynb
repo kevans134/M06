{
 "cells": [
  {
   "cell_type": "code",
   "execution_count": 1,
   "id": "275c723f",
   "metadata": {},
   "outputs": [
    {
     "ename": "TypeError",
     "evalue": "descriptor 'strftime' for 'datetime.date' objects doesn't apply to a 'str' object",
     "output_type": "error",
     "traceback": [
      "\u001b[1;31m---------------------------------------------------------------------------\u001b[0m",
      "\u001b[1;31mTypeError\u001b[0m                                 Traceback (most recent call last)",
      "\u001b[1;32m~\\AppData\\Local\\Temp\\ipykernel_20560\\3068347884.py\u001b[0m in \u001b[0;36m<module>\u001b[1;34m\u001b[0m\n\u001b[0;32m     15\u001b[0m \u001b[1;33m\u001b[0m\u001b[0m\n\u001b[0;32m     16\u001b[0m \u001b[1;31m#13.3 Parse the date from today_string.\u001b[0m\u001b[1;33m\u001b[0m\u001b[1;33m\u001b[0m\u001b[0m\n\u001b[1;32m---> 17\u001b[1;33m \u001b[0mtoday\u001b[0m \u001b[1;33m=\u001b[0m \u001b[0mdatetime\u001b[0m\u001b[1;33m.\u001b[0m\u001b[0mdatetime\u001b[0m\u001b[1;33m.\u001b[0m\u001b[0mstrftime\u001b[0m\u001b[1;33m(\u001b[0m\u001b[0mtoday_string\u001b[0m\u001b[1;33m,\u001b[0m \u001b[1;34m'%Y-%m-%d'\u001b[0m\u001b[1;33m)\u001b[0m\u001b[1;33m.\u001b[0m\u001b[0mdate\u001b[0m\u001b[1;33m(\u001b[0m\u001b[1;33m)\u001b[0m\u001b[1;33m\u001b[0m\u001b[1;33m\u001b[0m\u001b[0m\n\u001b[0m\u001b[0;32m     18\u001b[0m \u001b[0mprint\u001b[0m\u001b[1;33m(\u001b[0m\u001b[1;34m'The date is'\u001b[0m\u001b[1;33m,\u001b[0m \u001b[0mtoday\u001b[0m\u001b[1;33m)\u001b[0m\u001b[1;33m\u001b[0m\u001b[1;33m\u001b[0m\u001b[0m\n",
      "\u001b[1;31mTypeError\u001b[0m: descriptor 'strftime' for 'datetime.date' objects doesn't apply to a 'str' object"
     ]
    }
   ],
   "source": [
    "#KeShaundra Evans\n",
    "#2/27/2023\n",
    "#Chapter 13\n",
    "#13.1 Write the current date as a string to the text file today.txt.\n",
    "import datetime\n",
    "today = datetime. datetime.now()\n",
    "filename = open('today.txt', 'w')\n",
    "filename.write(str(today))\n",
    "filename.close()\n",
    "\n",
    "#13.2 Read the text file today.txt into the string today_string.\n",
    "filename = open('today.txt', 'r')\n",
    "today_string = filename.read()\n",
    "filename.close()\n",
    "\n",
    "#13.3 Parse the date from today_string.\n",
    "today = datetime.datetime.strftime(today_string, '%Y-%m-%d').date()\n",
    "print('The date is', today)\n"
   ]
  },
  {
   "cell_type": "code",
   "execution_count": 2,
   "id": "f4ad6ffb",
   "metadata": {},
   "outputs": [
    {
     "name": "stdout",
     "output_type": "stream",
     "text": [
      "The date and the time 2023-02-27 23:48:23.857070\n",
      "The date and the time 2023-02-27 23:48:24.657744\n",
      "The date and the time 2023-02-27 23:48:25.008192\n",
      "Finished\n"
     ]
    }
   ],
   "source": [
    "#chapter 15\n",
    "#15.1 Use multiprocessing to create three separate processes. Make each one wait a random number of seconds between zero and one\n",
    "import multiprocessing\n",
    "from datetime import datetime\n",
    "import time\n",
    "import random\n",
    "\n",
    "def time_seconds():\n",
    "    today = datetime.now()\n",
    "    print(\"The date and the time {}\".format(today))\n",
    "    time.sleep(random.random())\n",
    "    \n",
    "if __name__ == '__main__':\n",
    "    proc1 = multiprocessing.Process(target=time_seconds())\n",
    "    proc2 = multiprocessing.Process(target=time_seconds())\n",
    "    proc3 = multiprocessing.Process(target=time_seconds())\n",
    "    proc1.start()\n",
    "    proc2.start()\n",
    "    proc3.start()\n",
    "    proc1.join()\n",
    "    proc2.join()\n",
    "    proc3.join()\n",
    "\n",
    "    print('Finished')\n",
    "\n",
    "    "
   ]
  },
  {
   "cell_type": "code",
   "execution_count": null,
   "id": "99e2d916",
   "metadata": {},
   "outputs": [],
   "source": []
  }
 ],
 "metadata": {
  "kernelspec": {
   "display_name": "Python 3 (ipykernel)",
   "language": "python",
   "name": "python3"
  },
  "language_info": {
   "codemirror_mode": {
    "name": "ipython",
    "version": 3
   },
   "file_extension": ".py",
   "mimetype": "text/x-python",
   "name": "python",
   "nbconvert_exporter": "python",
   "pygments_lexer": "ipython3",
   "version": "3.9.13"
  }
 },
 "nbformat": 4,
 "nbformat_minor": 5
}
